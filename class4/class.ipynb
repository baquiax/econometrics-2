{
 "cells": [
  {
   "cell_type": "code",
   "execution_count": 3,
   "metadata": {},
   "outputs": [
    {
     "data": {
      "text/plain": [
       "array([ 3.09104245, 10.81981828,  9.6159388 ,  2.99573227,  0.        ,\n",
       "        0.69314718,  0.85696527])"
      ]
     },
     "execution_count": 3,
     "metadata": {},
     "output_type": "execute_result"
    }
   ],
   "source": [
    "import numpy as np\n",
    "import pandas as pd\n",
    "\n",
    "\n",
    "x = np.array([20, 50000, 15000, 18, -1, 0, 0.356]) + 2\n",
    "y = np.log(x)\n",
    "\n",
    "y"
   ]
  },
  {
   "cell_type": "code",
   "execution_count": 5,
   "metadata": {},
   "outputs": [
    {
     "data": {
      "text/plain": [
       "array([ 2.00e+01,  5.00e+04,  1.50e+04,  1.80e+01, -1.00e+00,  0.00e+00,\n",
       "        3.56e-01])"
      ]
     },
     "execution_count": 5,
     "metadata": {},
     "output_type": "execute_result"
    }
   ],
   "source": [
    "y_inv = np.exp(y) - 2\n",
    "y_inv"
   ]
  },
  {
   "cell_type": "code",
   "execution_count": null,
   "metadata": {},
   "outputs": [],
   "source": [
    "def is_normal_dist(dataset, col):\n",
    "    sesgo = dataset[col].skew()\n",
    "    curtosis = dataset[col].kurt()\n",
    "\n",
    "    if sesgo < 0.5 and sesgo > -0.5 and curtosis < 0.5 and curtosis > -0.5:\n",
    "    "
   ]
  }
 ],
 "metadata": {
  "kernelspec": {
   "display_name": "Python 3",
   "language": "python",
   "name": "python3"
  },
  "language_info": {
   "codemirror_mode": {
    "name": "ipython",
    "version": 3
   },
   "file_extension": ".py",
   "mimetype": "text/x-python",
   "name": "python",
   "nbconvert_exporter": "python",
   "pygments_lexer": "ipython3",
   "version": "3.7.9"
  },
  "orig_nbformat": 4
 },
 "nbformat": 4,
 "nbformat_minor": 2
}
