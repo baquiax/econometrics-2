{
 "cells": [
  {
   "attachments": {},
   "cell_type": "markdown",
   "metadata": {},
   "source": [
    "## Lab 2\n",
    "\n",
    "```\n",
    "Alexander Baquiax\n",
    "PIO | Econometría II\n",
    "12007988\n",
    "```\n"
   ]
  },
  {
   "attachments": {},
   "cell_type": "markdown",
   "metadata": {},
   "source": [
    "## Parte 1: Numpy\n",
    "\n",
    "Para los ejercicios siguiente genere el código que considere para resolver el problema que se le plantea."
   ]
  },
  {
   "attachments": {},
   "cell_type": "markdown",
   "metadata": {},
   "source": [
    "1. ¿Cuál es el tamaño en bytes de un array de `1000` elementos de tipo booleano? "
   ]
  },
  {
   "cell_type": "code",
   "execution_count": 8,
   "metadata": {},
   "outputs": [],
   "source": [
    "import numpy as np\n",
    "import sys"
   ]
  },
  {
   "cell_type": "code",
   "execution_count": 20,
   "metadata": {},
   "outputs": [
    {
     "name": "stdout",
     "output_type": "stream",
     "text": [
      "[ True  True  True  True  True  True  True  True  True  True  True  True\n",
      "  True  True  True  True  True  True  True  True  True  True  True  True\n",
      "  True  True  True  True  True  True  True  True  True  True  True  True\n",
      "  True  True  True  True  True  True  True  True  True  True  True  True\n",
      "  True  True  True  True  True  True  True  True  True  True  True  True\n",
      "  True  True  True  True  True  True  True  True  True  True  True  True\n",
      "  True  True  True  True  True  True  True  True  True  True  True  True\n",
      "  True  True  True  True  True  True  True  True  True  True  True  True\n",
      "  True  True  True  True  True  True  True  True  True  True  True  True\n",
      "  True  True  True  True  True  True  True  True  True  True  True  True\n",
      "  True  True  True  True  True  True  True  True  True  True  True  True\n",
      "  True  True  True  True  True  True  True  True  True  True  True  True\n",
      "  True  True  True  True  True  True  True  True  True  True  True  True\n",
      "  True  True  True  True  True  True  True  True  True  True  True  True\n",
      "  True  True  True  True  True  True  True  True  True  True  True  True\n",
      "  True  True  True  True  True  True  True  True  True  True  True  True\n",
      "  True  True  True  True  True  True  True  True  True  True  True  True\n",
      "  True  True  True  True  True  True  True  True  True  True  True  True\n",
      "  True  True  True  True  True  True  True  True  True  True  True  True\n",
      "  True  True  True  True  True  True  True  True  True  True  True  True\n",
      "  True  True  True  True  True  True  True  True  True  True  True  True\n",
      "  True  True  True  True  True  True  True  True  True  True  True  True\n",
      "  True  True  True  True  True  True  True  True  True  True  True  True\n",
      "  True  True  True  True  True  True  True  True  True  True  True  True\n",
      "  True  True  True  True  True  True  True  True  True  True  True  True\n",
      "  True  True  True  True  True  True  True  True  True  True  True  True\n",
      "  True  True  True  True  True  True  True  True  True  True  True  True\n",
      "  True  True  True  True  True  True  True  True  True  True  True  True\n",
      "  True  True  True  True  True  True  True  True  True  True  True  True\n",
      "  True  True  True  True  True  True  True  True  True  True  True  True\n",
      "  True  True  True  True  True  True  True  True  True  True  True  True\n",
      "  True  True  True  True  True  True  True  True  True  True  True  True\n",
      "  True  True  True  True  True  True  True  True  True  True  True  True\n",
      "  True  True  True  True  True  True  True  True  True  True  True  True\n",
      "  True  True  True  True  True  True  True  True  True  True  True  True\n",
      "  True  True  True  True  True  True  True  True  True  True  True  True\n",
      "  True  True  True  True  True  True  True  True  True  True  True  True\n",
      "  True  True  True  True  True  True  True  True  True  True  True  True\n",
      "  True  True  True  True  True  True  True  True  True  True  True  True\n",
      "  True  True  True  True  True  True  True  True  True  True  True  True\n",
      "  True  True  True  True  True  True  True  True  True  True  True  True\n",
      "  True  True  True  True  True  True  True  True  True  True  True  True\n",
      "  True  True  True  True  True  True  True  True  True  True  True  True\n",
      "  True  True  True  True  True  True  True  True  True  True  True  True\n",
      "  True  True  True  True  True  True  True  True  True  True  True  True\n",
      "  True  True  True  True  True  True  True  True  True  True  True  True\n",
      "  True  True  True  True  True  True  True  True  True  True  True  True\n",
      "  True  True  True  True  True  True  True  True  True  True  True  True\n",
      "  True  True  True  True  True  True  True  True  True  True  True  True\n",
      "  True  True  True  True  True  True  True  True  True  True  True  True\n",
      "  True  True  True  True  True  True  True  True  True  True  True  True\n",
      "  True  True  True  True  True  True  True  True  True  True  True  True\n",
      "  True  True  True  True  True  True  True  True  True  True  True  True\n",
      "  True  True  True  True  True  True  True  True  True  True  True  True\n",
      "  True  True  True  True  True  True  True  True  True  True  True  True\n",
      "  True  True  True  True  True  True  True  True  True  True  True  True\n",
      "  True  True  True  True  True  True  True  True  True  True  True  True\n",
      "  True  True  True  True  True  True  True  True  True  True  True  True\n",
      "  True  True  True  True  True  True  True  True  True  True  True  True\n",
      "  True  True  True  True  True  True  True  True  True  True  True  True\n",
      "  True  True  True  True  True  True  True  True  True  True  True  True\n",
      "  True  True  True  True  True  True  True  True  True  True  True  True\n",
      "  True  True  True  True  True  True  True  True  True  True  True  True\n",
      "  True  True  True  True  True  True  True  True  True  True  True  True\n",
      "  True  True  True  True  True  True  True  True  True  True  True  True\n",
      "  True  True  True  True  True  True  True  True  True  True  True  True\n",
      "  True  True  True  True  True  True  True  True  True  True  True  True\n",
      "  True  True  True  True  True  True  True  True  True  True  True  True\n",
      "  True  True  True  True  True  True  True  True  True  True  True  True\n",
      "  True  True  True  True  True  True  True  True  True  True  True  True\n",
      "  True  True  True  True  True  True  True  True  True  True  True  True\n",
      "  True  True  True  True  True  True  True  True  True  True  True  True\n",
      "  True  True  True  True  True  True  True  True  True  True  True  True\n",
      "  True  True  True  True  True  True  True  True  True  True  True  True\n",
      "  True  True  True  True  True  True  True  True  True  True  True  True\n",
      "  True  True  True  True  True  True  True  True  True  True  True  True\n",
      "  True  True  True  True  True  True  True  True  True  True  True  True\n",
      "  True  True  True  True  True  True  True  True  True  True  True  True\n",
      "  True  True  True  True  True  True  True  True  True  True  True  True\n",
      "  True  True  True  True  True  True  True  True  True  True  True  True\n",
      "  True  True  True  True  True  True  True  True  True  True  True  True\n",
      "  True  True  True  True  True  True  True  True  True  True  True  True\n",
      "  True  True  True  True  True  True  True  True  True  True  True  True\n",
      "  True  True  True  True]\n",
      "\n",
      "booleans array size: 1000 bytes; the logic behind is that each boolean uses 1B of memory and the array has 100 elements\n"
     ]
    }
   ],
   "source": [
    "booleans = np.full(1000, True)\n",
    "bytes_size =booleans.itemsize * booleans.size\n",
    "print(booleans)\n",
    "bytes_size\n",
    "print(f\"\\nbooleans array size: {bytes_size} bytes; the logic behind is that each boolean uses 1B of memory and the array has 100 elements\")"
   ]
  },
  {
   "attachments": {},
   "cell_type": "markdown",
   "metadata": {},
   "source": [
    "2. Cree un array cuyos elementos sean los enteros pares en  `[1,100]` y en orden decreciente. Muestre los `10` últimos por pantalla."
   ]
  },
  {
   "cell_type": "code",
   "execution_count": 30,
   "metadata": {},
   "outputs": [
    {
     "data": {
      "text/plain": [
       "array([ 82,  84,  86,  88,  90,  92,  94,  96,  98, 100])"
      ]
     },
     "execution_count": 30,
     "metadata": {},
     "output_type": "execute_result"
    }
   ],
   "source": [
    "even_numbers = np.arange(1, 101)\n",
    "even_numbers = even_numbers[even_numbers % 2 == 0]\n",
    "even_numbers[len(even_numbers) - 10:]"
   ]
  },
  {
   "attachments": {},
   "cell_type": "markdown",
   "metadata": {},
   "source": [
    "3. Dado el array  \n",
    "```\n",
    "2 4 5 6 \n",
    "0 3 7 4 \n",
    "8 8 5 2 \n",
    "1 5 6 1 \n",
    "```\n",
    "\n",
    "Seleccione con una instrucción el subarray de elementos  \n",
    "```\n",
    "0 3 7 4\n",
    "```\n",
    "\n",
    "Después, seleccione el subarray de elementos  \n",
    "```\n",
    "2 5 \n",
    "8 5\n",
    "```"
   ]
  },
  {
   "cell_type": "code",
   "execution_count": 31,
   "metadata": {},
   "outputs": [
    {
     "data": {
      "text/plain": [
       "matrix([[2, 4, 5, 6],\n",
       "        [0, 3, 7, 4],\n",
       "        [8, 8, 5, 2],\n",
       "        [1, 5, 6, 1]])"
      ]
     },
     "execution_count": 31,
     "metadata": {},
     "output_type": "execute_result"
    }
   ],
   "source": [
    "matrix = np.matrix(\"2 4 5 6; 0 3 7 4 ; 8 8 5 2; 1 5 6 1\")\n",
    "matrix"
   ]
  },
  {
   "cell_type": "code",
   "execution_count": 32,
   "metadata": {},
   "outputs": [
    {
     "data": {
      "text/plain": [
       "matrix([[0, 3, 7, 4]])"
      ]
     },
     "execution_count": 32,
     "metadata": {},
     "output_type": "execute_result"
    }
   ],
   "source": [
    "matrix[1]"
   ]
  },
  {
   "cell_type": "code",
   "execution_count": 38,
   "metadata": {},
   "outputs": [
    {
     "data": {
      "text/plain": [
       "matrix([[2, 5],\n",
       "        [8, 5]])"
      ]
     },
     "execution_count": 38,
     "metadata": {},
     "output_type": "execute_result"
    }
   ],
   "source": [
    "matrix[np.ix_([0, 2], [0, 2])]"
   ]
  },
  {
   "attachments": {},
   "cell_type": "markdown",
   "metadata": {},
   "source": [
    "4. Dados los arrays `a = [1, 4, 2, 7]` y `b = [1, 3, 2, 9]`, obtenga la _media aritmética_ de la diferencia `(a-b)`"
   ]
  },
  {
   "cell_type": "code",
   "execution_count": 41,
   "metadata": {},
   "outputs": [
    {
     "name": "stdout",
     "output_type": "stream",
     "text": [
      "[ 0  1  0 -2]\n"
     ]
    },
    {
     "data": {
      "text/plain": [
       "-0.25"
      ]
     },
     "execution_count": 41,
     "metadata": {},
     "output_type": "execute_result"
    }
   ],
   "source": [
    "a = np.array([1, 4, 2, 7 ])\n",
    "b = np.array([1, 3, 2, 9])\n",
    "print(a-b)\n",
    "np.mean(a-b)"
   ]
  },
  {
   "attachments": {},
   "cell_type": "markdown",
   "metadata": {},
   "source": [
    "4. Tengo valores de cordenadas (x, y) en las columnas del array \n",
    "\n",
    "```\n",
    "1.33 4.5 \n",
    "30.0 10.7 \n",
    "70.2 0.5 \n",
    "```\n",
    "Agregue a este array las coordenadas `(37.1, -3.6)`. \n",
    "\n",
    "Muestre en pantalla las dimensiones del nuevo array. "
   ]
  },
  {
   "cell_type": "code",
   "execution_count": 52,
   "metadata": {},
   "outputs": [
    {
     "name": "stdout",
     "output_type": "stream",
     "text": [
      "[[ 1.33  4.5 ]\n",
      " [30.   10.7 ]\n",
      " [70.2   0.5 ]]\n",
      "\n",
      "[[ 1.33  4.5 ]\n",
      " [30.   10.7 ]\n",
      " [70.2   0.5 ]\n",
      " [37.1  -3.6 ]]\n"
     ]
    }
   ],
   "source": [
    "matrix = np.matrix([[1.33, 4.5], [30.0, 10.7], [70.2, 0.5]])\n",
    "print(matrix)\n",
    "\n",
    "matrix = np.append(matrix, [[37.1, -3.6]], axis=0)\n",
    "print(f\"\\n{matrix}\")\n"
   ]
  },
  {
   "attachments": {},
   "cell_type": "markdown",
   "metadata": {},
   "source": [
    "6. Copie el array del ejercicio anterior. Traspóngalo. Agregue ahora dos nuevos pares de coordenadas: `(10.8, 3.0)` y `(35.8, 12.0)`."
   ]
  },
  {
   "cell_type": "code",
   "execution_count": 58,
   "metadata": {},
   "outputs": [
    {
     "data": {
      "text/plain": [
       "matrix([[ 1.33, 30.  , 70.2 , 37.1 ],\n",
       "        [ 4.5 , 10.7 ,  0.5 , -3.6 ]])"
      ]
     },
     "execution_count": 58,
     "metadata": {},
     "output_type": "execute_result"
    }
   ],
   "source": [
    "transposed = np.transpose(matrix)\n",
    "transposed"
   ]
  },
  {
   "cell_type": "code",
   "execution_count": 66,
   "metadata": {},
   "outputs": [
    {
     "data": {
      "text/plain": [
       "matrix([[ 1.33, 30.  , 70.2 , 37.1 , 10.8 , 35.8 ],\n",
       "        [ 4.5 , 10.7 ,  0.5 , -3.6 ,  3.  , 12.  ]])"
      ]
     },
     "execution_count": 66,
     "metadata": {},
     "output_type": "execute_result"
    }
   ],
   "source": [
    "np.append(transposed, [[10.8, 35.8], [3.0, 12.0]], axis=1)"
   ]
  },
  {
   "attachments": {},
   "cell_type": "markdown",
   "metadata": {},
   "source": [
    "## Parte 2: Exploración y minería de datos\n",
    "\n",
    "Con  el  dataset  `nucleospoblacion.csv`  adjunto  al  laboratorio, luego  responda  las  siguientes  preguntas  usando  pandas  y  matplotlib."
   ]
  },
  {
   "cell_type": "code",
   "execution_count": 67,
   "metadata": {},
   "outputs": [],
   "source": [
    "import pandas as pd"
   ]
  },
  {
   "cell_type": "code",
   "execution_count": 85,
   "metadata": {},
   "outputs": [
    {
     "data": {
      "text/html": [
       "<div>\n",
       "<style scoped>\n",
       "    .dataframe tbody tr th:only-of-type {\n",
       "        vertical-align: middle;\n",
       "    }\n",
       "\n",
       "    .dataframe tbody tr th {\n",
       "        vertical-align: top;\n",
       "    }\n",
       "\n",
       "    .dataframe thead th {\n",
       "        text-align: right;\n",
       "    }\n",
       "</style>\n",
       "<table border=\"1\" class=\"dataframe\">\n",
       "  <thead>\n",
       "    <tr style=\"text-align: right;\">\n",
       "      <th></th>\n",
       "      <th>FID</th>\n",
       "      <th>OBJECTID</th>\n",
       "      <th>Texto</th>\n",
       "      <th>Poblacion</th>\n",
       "      <th>CodMun</th>\n",
       "      <th>Municipio</th>\n",
       "      <th>CodProvin</th>\n",
       "      <th>Provincia</th>\n",
       "      <th>X</th>\n",
       "      <th>Y</th>\n",
       "    </tr>\n",
       "  </thead>\n",
       "  <tbody>\n",
       "    <tr>\n",
       "      <th>0</th>\n",
       "      <td>0</td>\n",
       "      <td>1</td>\n",
       "      <td>Agüimes</td>\n",
       "      <td>29431.0</td>\n",
       "      <td>35002</td>\n",
       "      <td>Agüimes</td>\n",
       "      <td>35</td>\n",
       "      <td>Las Palmas</td>\n",
       "      <td>-15.446012</td>\n",
       "      <td>27.900542</td>\n",
       "    </tr>\n",
       "    <tr>\n",
       "      <th>1</th>\n",
       "      <td>1</td>\n",
       "      <td>2</td>\n",
       "      <td>Antigua</td>\n",
       "      <td>10458.0</td>\n",
       "      <td>35003</td>\n",
       "      <td>Antigua</td>\n",
       "      <td>35</td>\n",
       "      <td>Las Palmas</td>\n",
       "      <td>-14.013301</td>\n",
       "      <td>28.418966</td>\n",
       "    </tr>\n",
       "    <tr>\n",
       "      <th>2</th>\n",
       "      <td>2</td>\n",
       "      <td>3</td>\n",
       "      <td>Arrecife</td>\n",
       "      <td>58156.0</td>\n",
       "      <td>35004</td>\n",
       "      <td>Arrecife</td>\n",
       "      <td>35</td>\n",
       "      <td>Las Palmas</td>\n",
       "      <td>-13.551451</td>\n",
       "      <td>28.960649</td>\n",
       "    </tr>\n",
       "    <tr>\n",
       "      <th>3</th>\n",
       "      <td>3</td>\n",
       "      <td>4</td>\n",
       "      <td>Arucas</td>\n",
       "      <td>36745.0</td>\n",
       "      <td>35006</td>\n",
       "      <td>Arucas</td>\n",
       "      <td>35</td>\n",
       "      <td>Las Palmas</td>\n",
       "      <td>-15.521512</td>\n",
       "      <td>28.117496</td>\n",
       "    </tr>\n",
       "    <tr>\n",
       "      <th>4</th>\n",
       "      <td>4</td>\n",
       "      <td>5</td>\n",
       "      <td>Gáldar</td>\n",
       "      <td>24473.0</td>\n",
       "      <td>35009</td>\n",
       "      <td>Gáldar</td>\n",
       "      <td>35</td>\n",
       "      <td>Las Palmas</td>\n",
       "      <td>-15.654111</td>\n",
       "      <td>28.143873</td>\n",
       "    </tr>\n",
       "  </tbody>\n",
       "</table>\n",
       "</div>"
      ],
      "text/plain": [
       "   FID  OBJECTID     Texto  Poblacion  CodMun Municipio  CodProvin  \\\n",
       "0    0         1   Agüimes    29431.0   35002   Agüimes         35   \n",
       "1    1         2   Antigua    10458.0   35003   Antigua         35   \n",
       "2    2         3  Arrecife    58156.0   35004  Arrecife         35   \n",
       "3    3         4    Arucas    36745.0   35006    Arucas         35   \n",
       "4    4         5    Gáldar    24473.0   35009    Gáldar         35   \n",
       "\n",
       "    Provincia          X          Y  \n",
       "0  Las Palmas -15.446012  27.900542  \n",
       "1  Las Palmas -14.013301  28.418966  \n",
       "2  Las Palmas -13.551451  28.960649  \n",
       "3  Las Palmas -15.521512  28.117496  \n",
       "4  Las Palmas -15.654111  28.143873  "
      ]
     },
     "execution_count": 85,
     "metadata": {},
     "output_type": "execute_result"
    }
   ],
   "source": [
    "data = pd.read_csv(\"nucleospoblacion.csv\")\n",
    "data.head()\n"
   ]
  },
  {
   "attachments": {},
   "cell_type": "markdown",
   "metadata": {},
   "source": [
    "#### 1.  ¿Cuántos Municipios tienen más de 100000 habitantes?"
   ]
  },
  {
   "cell_type": "code",
   "execution_count": 81,
   "metadata": {},
   "outputs": [
    {
     "data": {
      "text/plain": [
       "<bound method NDFrame.head of      FID  OBJECTID                       Texto  Poblacion  CodMun  \\\n",
       "9      9        10  Las Palmas de Gran Canaria   383308.0   35016   \n",
       "16    16        17                       Telde   100900.0   35026   \n",
       "28    28        29  San Cristóbal de La Laguna   152222.0   38023   \n",
       "40    40        41      Santa Cruz de Tenerife   222643.0   38038   \n",
       "42    42        43                     Badajoz   150376.0    6015   \n",
       "..   ...       ...                         ...        ...     ...   \n",
       "683  683       684    Santa Coloma de Gramenet   120060.0    8245   \n",
       "689  689       690                    Terrassa   212724.0    8279   \n",
       "725  725       726                      Lleida   137387.0   25120   \n",
       "735  735       736                        Reus   106622.0   43123   \n",
       "737  737       738                   Tarragona   140184.0   43148   \n",
       "\n",
       "                      Municipio  CodProvin               Provincia          X  \\\n",
       "9    Las Palmas de Gran Canaria         35              Las Palmas -15.413387   \n",
       "16                        Telde         35              Las Palmas -15.416666   \n",
       "28   San Cristóbal de La Laguna         38  Santa Cruz de Tenerife -16.314721   \n",
       "40       Santa Cruz de Tenerife         38  Santa Cruz de Tenerife -16.247264   \n",
       "42                      Badajoz          6                 Badajoz  -6.970997   \n",
       "..                          ...        ...                     ...        ...   \n",
       "683    Santa Coloma de Gramenet          8               Barcelona   2.212155   \n",
       "689                    Terrassa          8               Barcelona   2.012151   \n",
       "725                      Lleida         25                  Lleida   0.620619   \n",
       "735                        Reus         43               Tarragona   1.109861   \n",
       "737                   Tarragona         43               Tarragona   1.258422   \n",
       "\n",
       "             Y  \n",
       "9    28.099775  \n",
       "16   27.994202  \n",
       "28   28.487893  \n",
       "40   28.463257  \n",
       "42   38.878743  \n",
       "..         ...  \n",
       "683  41.453657  \n",
       "689  41.562363  \n",
       "725  41.615274  \n",
       "735  41.154107  \n",
       "737  41.119103  \n",
       "\n",
       "[62 rows x 10 columns]>"
      ]
     },
     "execution_count": 81,
     "metadata": {},
     "output_type": "execute_result"
    }
   ],
   "source": [
    "result = data[data['Poblacion'] > 100000]\n",
    "result.head\n",
    "\n"
   ]
  },
  {
   "cell_type": "code",
   "execution_count": 119,
   "metadata": {},
   "outputs": [
    {
     "data": {
      "text/plain": [
       "620"
      ]
     },
     "execution_count": 119,
     "metadata": {},
     "output_type": "execute_result"
    }
   ],
   "source": [
    "result.size"
   ]
  },
  {
   "attachments": {},
   "cell_type": "markdown",
   "metadata": {},
   "source": [
    "#### 2. Realice una gráfica de barras sobre la polbación de cada ciudad, ordenela de menor a mayo y responda: \n",
    " \n",
    "    1. ¿Cuál es la segunda ciudad más poblada? \n",
    "    2. ¿Qué posición ocupa Granada en el ranking de las ciudades más pobladas? "
   ]
  },
  {
   "cell_type": "code",
   "execution_count": 118,
   "metadata": {},
   "outputs": [
    {
     "data": {
      "text/plain": [
       "<AxesSubplot:xlabel='Municipio'>"
      ]
     },
     "execution_count": 118,
     "metadata": {},
     "output_type": "execute_result"
    },
    {
     "data": {
      "image/png": "[encoded data removed]",
      "text/plain": [
       "<Figure size 640x480 with 1 Axes>"
      ]
     },
     "metadata": {},
     "output_type": "display_data"
    }
   ],
   "source": [
    "import matplotlib.pyplot as plt\n",
    "data.sort_values(by=['Poblacion'], ascending=False)[:20].plot.bar(x='Municipio', y='Poblacion')\n"
   ]
  },
  {
   "attachments": {},
   "cell_type": "markdown",
   "metadata": {},
   "source": [
    "1. La ciudad más pobalda es `Madrid`"
   ]
  },
  {
   "attachments": {},
   "cell_type": "markdown",
   "metadata": {},
   "source": [
    "2. La posición de `Granada` con base a la gráfica es `18`\n",
    "   "
   ]
  },
  {
   "attachments": {},
   "cell_type": "markdown",
   "metadata": {},
   "source": [
    "#### 3. ¿Cuántos municipios de Extremadura tienen más de 5000 habitantes?."
   ]
  },
  {
   "cell_type": "code",
   "execution_count": 123,
   "metadata": {},
   "outputs": [
    {
     "data": {
      "text/plain": [
       "8520"
      ]
     },
     "execution_count": 123,
     "metadata": {},
     "output_type": "execute_result"
    }
   ],
   "source": [
    "data[data[\"Poblacion\"] > 5000].size"
   ]
  },
  {
   "attachments": {},
   "cell_type": "markdown",
   "metadata": {},
   "source": [
    "#### 4. ¿Cuál es el municipio situado más al Norte? (Usar el  valor de la coordenada \"Y\" que representa la latitud en grados). Proporcione también la provincia a la que pertenece y su población."
   ]
  },
  {
   "cell_type": "code",
   "execution_count": 126,
   "metadata": {},
   "outputs": [
    {
     "data": {
      "text/html": [
       "<div>\n",
       "<style scoped>\n",
       "    .dataframe tbody tr th:only-of-type {\n",
       "        vertical-align: middle;\n",
       "    }\n",
       "\n",
       "    .dataframe tbody tr th {\n",
       "        vertical-align: top;\n",
       "    }\n",
       "\n",
       "    .dataframe thead th {\n",
       "        text-align: right;\n",
       "    }\n",
       "</style>\n",
       "<table border=\"1\" class=\"dataframe\">\n",
       "  <thead>\n",
       "    <tr style=\"text-align: right;\">\n",
       "      <th></th>\n",
       "      <th>FID</th>\n",
       "      <th>OBJECTID</th>\n",
       "      <th>Texto</th>\n",
       "      <th>Poblacion</th>\n",
       "      <th>CodMun</th>\n",
       "      <th>Municipio</th>\n",
       "      <th>CodProvin</th>\n",
       "      <th>Provincia</th>\n",
       "      <th>X</th>\n",
       "      <th>Y</th>\n",
       "    </tr>\n",
       "  </thead>\n",
       "  <tbody>\n",
       "    <tr>\n",
       "      <th>0</th>\n",
       "      <td>0</td>\n",
       "      <td>1</td>\n",
       "      <td>Agüimes</td>\n",
       "      <td>29431.0</td>\n",
       "      <td>35002</td>\n",
       "      <td>Agüimes</td>\n",
       "      <td>35</td>\n",
       "      <td>Las Palmas</td>\n",
       "      <td>-15.446012</td>\n",
       "      <td>27.900542</td>\n",
       "    </tr>\n",
       "    <tr>\n",
       "      <th>1</th>\n",
       "      <td>1</td>\n",
       "      <td>2</td>\n",
       "      <td>Antigua</td>\n",
       "      <td>10458.0</td>\n",
       "      <td>35003</td>\n",
       "      <td>Antigua</td>\n",
       "      <td>35</td>\n",
       "      <td>Las Palmas</td>\n",
       "      <td>-14.013301</td>\n",
       "      <td>28.418966</td>\n",
       "    </tr>\n",
       "    <tr>\n",
       "      <th>2</th>\n",
       "      <td>2</td>\n",
       "      <td>3</td>\n",
       "      <td>Arrecife</td>\n",
       "      <td>58156.0</td>\n",
       "      <td>35004</td>\n",
       "      <td>Arrecife</td>\n",
       "      <td>35</td>\n",
       "      <td>Las Palmas</td>\n",
       "      <td>-13.551451</td>\n",
       "      <td>28.960649</td>\n",
       "    </tr>\n",
       "    <tr>\n",
       "      <th>3</th>\n",
       "      <td>3</td>\n",
       "      <td>4</td>\n",
       "      <td>Arucas</td>\n",
       "      <td>36745.0</td>\n",
       "      <td>35006</td>\n",
       "      <td>Arucas</td>\n",
       "      <td>35</td>\n",
       "      <td>Las Palmas</td>\n",
       "      <td>-15.521512</td>\n",
       "      <td>28.117496</td>\n",
       "    </tr>\n",
       "    <tr>\n",
       "      <th>4</th>\n",
       "      <td>4</td>\n",
       "      <td>5</td>\n",
       "      <td>Gáldar</td>\n",
       "      <td>24473.0</td>\n",
       "      <td>35009</td>\n",
       "      <td>Gáldar</td>\n",
       "      <td>35</td>\n",
       "      <td>Las Palmas</td>\n",
       "      <td>-15.654111</td>\n",
       "      <td>28.143873</td>\n",
       "    </tr>\n",
       "  </tbody>\n",
       "</table>\n",
       "</div>"
      ],
      "text/plain": [
       "   FID  OBJECTID     Texto  Poblacion  CodMun Municipio  CodProvin  \\\n",
       "0    0         1   Agüimes    29431.0   35002   Agüimes         35   \n",
       "1    1         2   Antigua    10458.0   35003   Antigua         35   \n",
       "2    2         3  Arrecife    58156.0   35004  Arrecife         35   \n",
       "3    3         4    Arucas    36745.0   35006    Arucas         35   \n",
       "4    4         5    Gáldar    24473.0   35009    Gáldar         35   \n",
       "\n",
       "    Provincia          X          Y  \n",
       "0  Las Palmas -15.446012  27.900542  \n",
       "1  Las Palmas -14.013301  28.418966  \n",
       "2  Las Palmas -13.551451  28.960649  \n",
       "3  Las Palmas -15.521512  28.117496  \n",
       "4  Las Palmas -15.654111  28.143873  "
      ]
     },
     "execution_count": 126,
     "metadata": {},
     "output_type": "execute_result"
    }
   ],
   "source": [
    "data.head()"
   ]
  },
  {
   "cell_type": "code",
   "execution_count": 134,
   "metadata": {},
   "outputs": [
    {
     "data": {
      "text/html": [
       "<div>\n",
       "<style scoped>\n",
       "    .dataframe tbody tr th:only-of-type {\n",
       "        vertical-align: middle;\n",
       "    }\n",
       "\n",
       "    .dataframe tbody tr th {\n",
       "        vertical-align: top;\n",
       "    }\n",
       "\n",
       "    .dataframe thead th {\n",
       "        text-align: right;\n",
       "    }\n",
       "</style>\n",
       "<table border=\"1\" class=\"dataframe\">\n",
       "  <thead>\n",
       "    <tr style=\"text-align: right;\">\n",
       "      <th></th>\n",
       "      <th>FID</th>\n",
       "      <th>OBJECTID</th>\n",
       "      <th>Texto</th>\n",
       "      <th>Poblacion</th>\n",
       "      <th>CodMun</th>\n",
       "      <th>Municipio</th>\n",
       "      <th>CodProvin</th>\n",
       "      <th>Provincia</th>\n",
       "      <th>X</th>\n",
       "      <th>Y</th>\n",
       "    </tr>\n",
       "  </thead>\n",
       "  <tbody>\n",
       "    <tr>\n",
       "      <th>104</th>\n",
       "      <td>104</td>\n",
       "      <td>105</td>\n",
       "      <td>Viveiro</td>\n",
       "      <td>16211.0</td>\n",
       "      <td>27066</td>\n",
       "      <td>Viveiro</td>\n",
       "      <td>27</td>\n",
       "      <td>Lugo</td>\n",
       "      <td>-7.588768</td>\n",
       "      <td>43.625578</td>\n",
       "    </tr>\n",
       "  </tbody>\n",
       "</table>\n",
       "</div>"
      ],
      "text/plain": [
       "     FID  OBJECTID    Texto  Poblacion  CodMun Municipio  CodProvin Provincia  \\\n",
       "104  104       105  Viveiro    16211.0   27066   Viveiro         27      Lugo   \n",
       "\n",
       "            X          Y  \n",
       "104 -7.588768  43.625578  "
      ]
     },
     "execution_count": 134,
     "metadata": {},
     "output_type": "execute_result"
    }
   ],
   "source": [
    "result = data.sort_values(by=['Y'], ascending=False)[:1]\n",
    "result"
   ]
  },
  {
   "cell_type": "code",
   "execution_count": 137,
   "metadata": {},
   "outputs": [
    {
     "name": "stdout",
     "output_type": "stream",
     "text": [
      "Municipio: Viveiro, Provincia: Lugo, Poblacion: 16211.0\n"
     ]
    }
   ],
   "source": [
    "print(f\"Municipio: {result['Municipio'].values[0]}, Provincia: {result['Provincia'].values[0]}, Poblacion: {result['Poblacion'].values[0]}\")"
   ]
  },
  {
   "attachments": {},
   "cell_type": "markdown",
   "metadata": {},
   "source": [
    "#### 5. Obtenga la media, mediana, desviación estándar, valor máximo y valor mínimo de la población de los municipios de la provincia de Granada."
   ]
  },
  {
   "cell_type": "code",
   "execution_count": 139,
   "metadata": {},
   "outputs": [
    {
     "data": {
      "text/html": [
       "<div>\n",
       "<style scoped>\n",
       "    .dataframe tbody tr th:only-of-type {\n",
       "        vertical-align: middle;\n",
       "    }\n",
       "\n",
       "    .dataframe tbody tr th {\n",
       "        vertical-align: top;\n",
       "    }\n",
       "\n",
       "    .dataframe thead th {\n",
       "        text-align: right;\n",
       "    }\n",
       "</style>\n",
       "<table border=\"1\" class=\"dataframe\">\n",
       "  <thead>\n",
       "    <tr style=\"text-align: right;\">\n",
       "      <th></th>\n",
       "      <th>FID</th>\n",
       "      <th>OBJECTID</th>\n",
       "      <th>Texto</th>\n",
       "      <th>Poblacion</th>\n",
       "      <th>CodMun</th>\n",
       "      <th>Municipio</th>\n",
       "      <th>CodProvin</th>\n",
       "      <th>Provincia</th>\n",
       "      <th>X</th>\n",
       "      <th>Y</th>\n",
       "    </tr>\n",
       "  </thead>\n",
       "  <tbody>\n",
       "    <tr>\n",
       "      <th>266</th>\n",
       "      <td>266</td>\n",
       "      <td>267</td>\n",
       "      <td>Albolote</td>\n",
       "      <td>17637.0</td>\n",
       "      <td>18003</td>\n",
       "      <td>Albolote</td>\n",
       "      <td>18</td>\n",
       "      <td>Granada</td>\n",
       "      <td>-3.657480</td>\n",
       "      <td>37.230902</td>\n",
       "    </tr>\n",
       "    <tr>\n",
       "      <th>267</th>\n",
       "      <td>267</td>\n",
       "      <td>268</td>\n",
       "      <td>Almuñécar</td>\n",
       "      <td>27703.0</td>\n",
       "      <td>18017</td>\n",
       "      <td>Almuñécar</td>\n",
       "      <td>18</td>\n",
       "      <td>Granada</td>\n",
       "      <td>-3.690916</td>\n",
       "      <td>36.734414</td>\n",
       "    </tr>\n",
       "    <tr>\n",
       "      <th>268</th>\n",
       "      <td>268</td>\n",
       "      <td>269</td>\n",
       "      <td>Armilla</td>\n",
       "      <td>21895.0</td>\n",
       "      <td>18021</td>\n",
       "      <td>Armilla</td>\n",
       "      <td>18</td>\n",
       "      <td>Granada</td>\n",
       "      <td>-3.626903</td>\n",
       "      <td>37.140314</td>\n",
       "    </tr>\n",
       "    <tr>\n",
       "      <th>269</th>\n",
       "      <td>269</td>\n",
       "      <td>270</td>\n",
       "      <td>Atarfe</td>\n",
       "      <td>15945.0</td>\n",
       "      <td>18022</td>\n",
       "      <td>Atarfe</td>\n",
       "      <td>18</td>\n",
       "      <td>Granada</td>\n",
       "      <td>-3.688734</td>\n",
       "      <td>37.222711</td>\n",
       "    </tr>\n",
       "    <tr>\n",
       "      <th>270</th>\n",
       "      <td>270</td>\n",
       "      <td>271</td>\n",
       "      <td>Baza</td>\n",
       "      <td>21982.0</td>\n",
       "      <td>18023</td>\n",
       "      <td>Baza</td>\n",
       "      <td>18</td>\n",
       "      <td>Granada</td>\n",
       "      <td>-2.774856</td>\n",
       "      <td>37.490778</td>\n",
       "    </tr>\n",
       "  </tbody>\n",
       "</table>\n",
       "</div>"
      ],
      "text/plain": [
       "     FID  OBJECTID      Texto  Poblacion  CodMun  Municipio  CodProvin  \\\n",
       "266  266       267   Albolote    17637.0   18003   Albolote         18   \n",
       "267  267       268  Almuñécar    27703.0   18017  Almuñécar         18   \n",
       "268  268       269    Armilla    21895.0   18021    Armilla         18   \n",
       "269  269       270     Atarfe    15945.0   18022     Atarfe         18   \n",
       "270  270       271       Baza    21982.0   18023       Baza         18   \n",
       "\n",
       "    Provincia         X          Y  \n",
       "266   Granada -3.657480  37.230902  \n",
       "267   Granada -3.690916  36.734414  \n",
       "268   Granada -3.626903  37.140314  \n",
       "269   Granada -3.688734  37.222711  \n",
       "270   Granada -2.774856  37.490778  "
      ]
     },
     "execution_count": 139,
     "metadata": {},
     "output_type": "execute_result"
    }
   ],
   "source": [
    "granada = data[data['Provincia'] == 'Granada']\n",
    "granada.head()"
   ]
  },
  {
   "cell_type": "code",
   "execution_count": 144,
   "metadata": {},
   "outputs": [
    {
     "name": "stdout",
     "output_type": "stream",
     "text": [
      "media:30217.85\n"
     ]
    }
   ],
   "source": [
    "mean = granada[\"Poblacion\"].mean()\n",
    "print(f\"media: {mean}\")\n"
   ]
  },
  {
   "cell_type": "code",
   "execution_count": 146,
   "metadata": {},
   "outputs": [
    {
     "name": "stdout",
     "output_type": "stream",
     "text": [
      "mediana: 17526.0\n"
     ]
    }
   ],
   "source": [
    "meadian = granada[\"Poblacion\"].median()\n",
    "print(f\"mediana: {meadian}\")"
   ]
  },
  {
   "cell_type": "code",
   "execution_count": 148,
   "metadata": {},
   "outputs": [
    {
     "name": "stdout",
     "output_type": "stream",
     "text": [
      "desviacion estandar: 50355.49171459276\n"
     ]
    }
   ],
   "source": [
    "std = granada[\"Poblacion\"].std()\n",
    "print(f\"desviacion estandar: {std}\")"
   ]
  },
  {
   "cell_type": "code",
   "execution_count": 149,
   "metadata": {},
   "outputs": [
    {
     "name": "stdout",
     "output_type": "stream",
     "text": [
      "maximo: 239154.0\n"
     ]
    }
   ],
   "source": [
    "max = granada[\"Poblacion\"].max()\n",
    "print(f\"máximo: {max}\")"
   ]
  },
  {
   "cell_type": "code",
   "execution_count": 150,
   "metadata": {},
   "outputs": [
    {
     "name": "stdout",
     "output_type": "stream",
     "text": [
      "mínimo: 10386.0\n"
     ]
    }
   ],
   "source": [
    "min = granada[\"Poblacion\"].min()   \n",
    "print(f\"mínimo: {min}\")"
   ]
  },
  {
   "attachments": {},
   "cell_type": "markdown",
   "metadata": {},
   "source": [
    "#### 6. Realice un histograma con la población de los Municipios para cada una de las provincias."
   ]
  },
  {
   "cell_type": "code",
   "execution_count": 167,
   "metadata": {},
   "outputs": [
    {
     "data": {
      "text/plain": [
       "<AxesSubplot:ylabel='Frequency'>"
      ]
     },
     "execution_count": 167,
     "metadata": {},
     "output_type": "execute_result"
    },
    {
     "data": {
      "image/png": "[encoded data removed]",
      "text/plain": [
       "<Figure size 640x480 with 1 Axes>"
      ]
     },
     "metadata": {},
     "output_type": "display_data"
    }
   ],
   "source": [
    "grouped = data.groupby(\"Provincia\")[\"Poblacion\"].sum()\n",
    "\n",
    "grouped.plot.hist()"
   ]
  },
  {
   "attachments": {},
   "cell_type": "markdown",
   "metadata": {},
   "source": [
    "#### 7. Seleccione al azar cincuenta municipios diferentes de entre los diponibles en el archivo. Asegúrese de que no se repitan. ¿Luego calcule el promedio de la población y la desviación estándar de esto 50 municipios?."
   ]
  },
  {
   "cell_type": "code",
   "execution_count": 171,
   "metadata": {},
   "outputs": [
    {
     "name": "stdout",
     "output_type": "stream",
     "text": [
      "media: 52965.46\n",
      "desviación estandar: 97697.7569982974\n"
     ]
    }
   ],
   "source": [
    "sample = data.sample(50)\n",
    "\n",
    "print(f\"media: {sample['Poblacion'].mean()}\")\n",
    "print(f\"desviación estandar: {sample['Poblacion'].std()}\")"
   ]
  },
  {
   "attachments": {},
   "cell_type": "markdown",
   "metadata": {},
   "source": [
    "### 8. Dígame los nombres de los Municipios más cercano y más lejano a Madrid. Para ello debe calcular la distancia en todos ellos y Madrid. No considere a Madrid en el análisis ya que la distancia sería cero."
   ]
  },
  {
   "cell_type": "code",
   "execution_count": 187,
   "metadata": {},
   "outputs": [
    {
     "data": {
      "text/html": [
       "<div>\n",
       "<style scoped>\n",
       "    .dataframe tbody tr th:only-of-type {\n",
       "        vertical-align: middle;\n",
       "    }\n",
       "\n",
       "    .dataframe tbody tr th {\n",
       "        vertical-align: top;\n",
       "    }\n",
       "\n",
       "    .dataframe thead th {\n",
       "        text-align: right;\n",
       "    }\n",
       "</style>\n",
       "<table border=\"1\" class=\"dataframe\">\n",
       "  <thead>\n",
       "    <tr style=\"text-align: right;\">\n",
       "      <th></th>\n",
       "      <th>FID</th>\n",
       "      <th>OBJECTID</th>\n",
       "      <th>Texto</th>\n",
       "      <th>Poblacion</th>\n",
       "      <th>CodMun</th>\n",
       "      <th>Municipio</th>\n",
       "      <th>CodProvin</th>\n",
       "      <th>Provincia</th>\n",
       "      <th>X</th>\n",
       "      <th>Y</th>\n",
       "      <th>distance_from_madrid</th>\n",
       "    </tr>\n",
       "  </thead>\n",
       "  <tbody>\n",
       "    <tr>\n",
       "      <th>355</th>\n",
       "      <td>355</td>\n",
       "      <td>356</td>\n",
       "      <td>Madrid</td>\n",
       "      <td>3273049.0</td>\n",
       "      <td>28079</td>\n",
       "      <td>Madrid</td>\n",
       "      <td>28</td>\n",
       "      <td>Madrid</td>\n",
       "      <td>-3.703797</td>\n",
       "      <td>40.416630</td>\n",
       "      <td>0.000000</td>\n",
       "    </tr>\n",
       "    <tr>\n",
       "      <th>783</th>\n",
       "      <td>783</td>\n",
       "      <td>784</td>\n",
       "      <td>Humera-Somosaguas-prado del Rey</td>\n",
       "      <td>14800.0</td>\n",
       "      <td>28115</td>\n",
       "      <td>Pozuelo de Alarcón</td>\n",
       "      <td>28</td>\n",
       "      <td>Madrid</td>\n",
       "      <td>-3.783853</td>\n",
       "      <td>40.428764</td>\n",
       "      <td>0.080970</td>\n",
       "    </tr>\n",
       "    <tr>\n",
       "      <th>780</th>\n",
       "      <td>780</td>\n",
       "      <td>781</td>\n",
       "      <td>El Bercial</td>\n",
       "      <td>12814.0</td>\n",
       "      <td>28065</td>\n",
       "      <td>Getafe</td>\n",
       "      <td>28</td>\n",
       "      <td>Madrid</td>\n",
       "      <td>-3.736771</td>\n",
       "      <td>40.327270</td>\n",
       "      <td>0.095249</td>\n",
       "    </tr>\n",
       "    <tr>\n",
       "      <th>781</th>\n",
       "      <td>781</td>\n",
       "      <td>782</td>\n",
       "      <td>Fortuna</td>\n",
       "      <td>12840.0</td>\n",
       "      <td>28074</td>\n",
       "      <td>Leganés</td>\n",
       "      <td>28</td>\n",
       "      <td>Madrid</td>\n",
       "      <td>-3.780326</td>\n",
       "      <td>40.358067</td>\n",
       "      <td>0.096365</td>\n",
       "    </tr>\n",
       "    <tr>\n",
       "      <th>354</th>\n",
       "      <td>354</td>\n",
       "      <td>355</td>\n",
       "      <td>Leganés</td>\n",
       "      <td>187227.0</td>\n",
       "      <td>28074</td>\n",
       "      <td>Leganés</td>\n",
       "      <td>28</td>\n",
       "      <td>Madrid</td>\n",
       "      <td>-3.766556</td>\n",
       "      <td>40.331744</td>\n",
       "      <td>0.105567</td>\n",
       "    </tr>\n",
       "  </tbody>\n",
       "</table>\n",
       "</div>"
      ],
      "text/plain": [
       "     FID  OBJECTID                            Texto  Poblacion  CodMun  \\\n",
       "355  355       356                           Madrid  3273049.0   28079   \n",
       "783  783       784  Humera-Somosaguas-prado del Rey    14800.0   28115   \n",
       "780  780       781                       El Bercial    12814.0   28065   \n",
       "781  781       782                          Fortuna    12840.0   28074   \n",
       "354  354       355                          Leganés   187227.0   28074   \n",
       "\n",
       "              Municipio  CodProvin Provincia         X          Y  \\\n",
       "355              Madrid         28    Madrid -3.703797  40.416630   \n",
       "783  Pozuelo de Alarcón         28    Madrid -3.783853  40.428764   \n",
       "780              Getafe         28    Madrid -3.736771  40.327270   \n",
       "781             Leganés         28    Madrid -3.780326  40.358067   \n",
       "354             Leganés         28    Madrid -3.766556  40.331744   \n",
       "\n",
       "     distance_from_madrid  \n",
       "355              0.000000  \n",
       "783              0.080970  \n",
       "780              0.095249  \n",
       "781              0.096365  \n",
       "354              0.105567  "
      ]
     },
     "execution_count": 187,
     "metadata": {},
     "output_type": "execute_result"
    }
   ],
   "source": [
    "def get_distance(x1, y1, x2, y2):\n",
    "    return np.sqrt((x2-x1)**2 + (y2-y1)**2)\n",
    "\n",
    "madrid_x=-3.703797076\n",
    "madrid_y=40.4166300011\n",
    "\n",
    "data[\"distance_from_madrid\"] = data.apply(lambda row: get_distance(madrid_x, madrid_y, row[\"X\"], row[\"Y\"]), axis=1)\n",
    "\n",
    "\n",
    "sorted_data = data.sort_values(by=['distance_from_madrid'], ascending=True)\n",
    "\n",
    "sorted_data.head()\n"
   ]
  },
  {
   "cell_type": "code",
   "execution_count": 188,
   "metadata": {},
   "outputs": [
    {
     "data": {
      "text/html": [
       "<div>\n",
       "<style scoped>\n",
       "    .dataframe tbody tr th:only-of-type {\n",
       "        vertical-align: middle;\n",
       "    }\n",
       "\n",
       "    .dataframe tbody tr th {\n",
       "        vertical-align: top;\n",
       "    }\n",
       "\n",
       "    .dataframe thead th {\n",
       "        text-align: right;\n",
       "    }\n",
       "</style>\n",
       "<table border=\"1\" class=\"dataframe\">\n",
       "  <thead>\n",
       "    <tr style=\"text-align: right;\">\n",
       "      <th></th>\n",
       "      <th>FID</th>\n",
       "      <th>OBJECTID</th>\n",
       "      <th>Texto</th>\n",
       "      <th>Poblacion</th>\n",
       "      <th>CodMun</th>\n",
       "      <th>Municipio</th>\n",
       "      <th>CodProvin</th>\n",
       "      <th>Provincia</th>\n",
       "      <th>X</th>\n",
       "      <th>Y</th>\n",
       "      <th>distance_from_madrid</th>\n",
       "    </tr>\n",
       "  </thead>\n",
       "  <tbody>\n",
       "    <tr>\n",
       "      <th>21</th>\n",
       "      <td>21</td>\n",
       "      <td>22</td>\n",
       "      <td>Adeje</td>\n",
       "      <td>43801.0</td>\n",
       "      <td>38001</td>\n",
       "      <td>Adeje</td>\n",
       "      <td>38</td>\n",
       "      <td>Santa Cruz de Tenerife</td>\n",
       "      <td>-16.729708</td>\n",
       "      <td>28.118880</td>\n",
       "      <td>17.913933</td>\n",
       "    </tr>\n",
       "    <tr>\n",
       "      <th>764</th>\n",
       "      <td>764</td>\n",
       "      <td>765</td>\n",
       "      <td>Playa de las Américas</td>\n",
       "      <td>18562.0</td>\n",
       "      <td>38001</td>\n",
       "      <td>Adeje</td>\n",
       "      <td>38</td>\n",
       "      <td>Santa Cruz de Tenerife</td>\n",
       "      <td>-16.729436</td>\n",
       "      <td>28.068070</td>\n",
       "      <td>17.948654</td>\n",
       "    </tr>\n",
       "    <tr>\n",
       "      <th>765</th>\n",
       "      <td>765</td>\n",
       "      <td>766</td>\n",
       "      <td>Los Cristianos</td>\n",
       "      <td>19383.0</td>\n",
       "      <td>38006</td>\n",
       "      <td>Arona</td>\n",
       "      <td>38</td>\n",
       "      <td>Santa Cruz de Tenerife</td>\n",
       "      <td>-16.716798</td>\n",
       "      <td>28.053827</td>\n",
       "      <td>17.949292</td>\n",
       "    </tr>\n",
       "    <tr>\n",
       "      <th>35</th>\n",
       "      <td>35</td>\n",
       "      <td>36</td>\n",
       "      <td>Santa Cruz de la Palma</td>\n",
       "      <td>17128.0</td>\n",
       "      <td>38037</td>\n",
       "      <td>Santa Cruz de la Palma</td>\n",
       "      <td>38</td>\n",
       "      <td>Santa Cruz de Tenerife</td>\n",
       "      <td>-17.765386</td>\n",
       "      <td>28.684138</td>\n",
       "      <td>18.313373</td>\n",
       "    </tr>\n",
       "    <tr>\n",
       "      <th>29</th>\n",
       "      <td>29</td>\n",
       "      <td>30</td>\n",
       "      <td>Los Llanos de Aridane</td>\n",
       "      <td>20948.0</td>\n",
       "      <td>38024</td>\n",
       "      <td>Los Llanos de Aridane</td>\n",
       "      <td>38</td>\n",
       "      <td>Santa Cruz de Tenerife</td>\n",
       "      <td>-17.914361</td>\n",
       "      <td>28.658639</td>\n",
       "      <td>18.444254</td>\n",
       "    </tr>\n",
       "  </tbody>\n",
       "</table>\n",
       "</div>"
      ],
      "text/plain": [
       "     FID  OBJECTID                   Texto  Poblacion  CodMun  \\\n",
       "21    21        22                   Adeje    43801.0   38001   \n",
       "764  764       765   Playa de las Américas    18562.0   38001   \n",
       "765  765       766          Los Cristianos    19383.0   38006   \n",
       "35    35        36  Santa Cruz de la Palma    17128.0   38037   \n",
       "29    29        30   Los Llanos de Aridane    20948.0   38024   \n",
       "\n",
       "                  Municipio  CodProvin               Provincia          X  \\\n",
       "21                    Adeje         38  Santa Cruz de Tenerife -16.729708   \n",
       "764                   Adeje         38  Santa Cruz de Tenerife -16.729436   \n",
       "765                   Arona         38  Santa Cruz de Tenerife -16.716798   \n",
       "35   Santa Cruz de la Palma         38  Santa Cruz de Tenerife -17.765386   \n",
       "29    Los Llanos de Aridane         38  Santa Cruz de Tenerife -17.914361   \n",
       "\n",
       "             Y  distance_from_madrid  \n",
       "21   28.118880             17.913933  \n",
       "764  28.068070             17.948654  \n",
       "765  28.053827             17.949292  \n",
       "35   28.684138             18.313373  \n",
       "29   28.658639             18.444254  "
      ]
     },
     "execution_count": 188,
     "metadata": {},
     "output_type": "execute_result"
    }
   ],
   "source": [
    "sorted_data.tail()"
   ]
  },
  {
   "cell_type": "code",
   "execution_count": 178,
   "metadata": {},
   "outputs": [
    {
     "name": "stdout",
     "output_type": "stream",
     "text": [
      "municipio más cercano a Madrid: Pozuelo de Alarcón\n",
      "municipio más lejano a Madrid: Los Llanos de Aridane\n"
     ]
    }
   ],
   "source": [
    "print(f\"municipio más cercano a Madrid: {sorted_data['Municipio'].values[1]}\")\n",
    "print(f\"municipio más lejano a Madrid: {sorted_data['Municipio'].values[len(sorted_data) - 1]}\")\n"
   ]
  },
  {
   "attachments": {},
   "cell_type": "markdown",
   "metadata": {},
   "source": []
  }
 ],
 "metadata": {
  "kernelspec": {
   "display_name": "Python 3",
   "language": "python",
   "name": "python3"
  },
  "language_info": {
   "codemirror_mode": {
    "name": "ipython",
    "version": 3
   },
   "file_extension": ".py",
   "mimetype": "text/x-python",
   "name": "python",
   "nbconvert_exporter": "python",
   "pygments_lexer": "ipython3",
   "version": "3.7.9"
  },
  "orig_nbformat": 4
 },
 "nbformat": 4,
 "nbformat_minor": 2
}
